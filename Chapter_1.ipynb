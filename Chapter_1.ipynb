{
 "cells": [
  {
   "cell_type": "markdown",
   "id": "miniature-appointment",
   "metadata": {},
   "source": [
    "# Chaper 1 Schema and Types"
   ]
  },
  {
   "cell_type": "markdown",
   "id": "plastic-router",
   "metadata": {},
   "source": [
    "In order to provide access to the underlying database, SQLAlchemy needs a representation of the tables that should be present in the database. We can do this in one of three ways:\n",
    "- Using user-defined `table` objects\n",
    "- Using declarative classes that represent your tables\n",
    "- Inferring them from the database"
   ]
  },
  {
   "cell_type": "markdown",
   "id": "bored-direction",
   "metadata": {},
   "source": [
    "## 1.0 Types"
   ]
  },
  {
   "cell_type": "markdown",
   "id": "essential-staff",
   "metadata": {},
   "source": [
    "There are four categories of types we can use inside of SQLAlchemy:\n",
    "- Generic\n",
    "- SQL standard\n",
    "- Vendor specific\n",
    "- User defined\n",
    "\n",
    "SQLAlchemy defines a large number of generic types that are abstracted away from\n",
    "the actual SQL types supported by each backend database. These types are all avail‐\n",
    "able in the `sqlalchemy.types` module, and for convenience they are also available in\n",
    "the sqlalchemy module. So let’s think about how these generic types are useful.\n",
    "\n",
    "See https://docs.sqlalchemy.org/en/13/core/type_basics.html for overview."
   ]
  },
  {
   "cell_type": "markdown",
   "id": "turned-mailing",
   "metadata": {},
   "source": [
    "You can use generic SQL types, somethin i believe i would recommend as the SQL Database can be already created beforehand. Probably also good if one wish to work with PostgreSQL. These are available thought `sqlalchemy.types` e.g. `sqlalchemy.BIGINT` or `sqlalchemy.VARCHAR`"
   ]
  },
  {
   "cell_type": "markdown",
   "id": "common-animation",
   "metadata": {},
   "source": [
    "### 1.0.1 Dialects\n",
    "The **dialect** is the system SQLAlchemy uses to communicate with various types of DBAPI implementations and databases. The sections that follow contain reference documentation and notes specific to the usage of each backend, as well as notes for the various DBAPIs.\n",
    "\n",
    "see: https://docs.sqlalchemy.org/en/14/dialects/\n",
    "\n",
    "These are all available in the `sqlalchemy.dialect` module e.g.:"
   ]
  },
  {
   "cell_type": "code",
   "execution_count": 1,
   "id": "offensive-bidding",
   "metadata": {},
   "outputs": [],
   "source": [
    "from sqlalchemy.dialects.postgresql import JSON"
   ]
  },
  {
   "cell_type": "markdown",
   "id": "governing-interval",
   "metadata": {},
   "source": [
    "Now we can define JSON fields that we can later use with the many PostgreSQL-\n",
    "specific JSON functions, such as `array_to_json` , within our application."
   ]
  },
  {
   "cell_type": "markdown",
   "id": "assured-collaboration",
   "metadata": {},
   "source": [
    "## 1.1 Metadata\n",
    "Metadata is used to tie together the database structure so it can be quickly accessed\n",
    "inside SQLAlchemy. It’s often useful to think of metadata as a kind of catalog of `Table`\n",
    "objects with optional information about the engine and the connection. Those tables\n",
    "can be accessed via a dictionary, `MetaData.tables` .\n",
    "**Metadata needs to be imported and initialized before objects can be tied to it.** Let’s initialize an instance of the `MetaData` objects that we can use throughout the rest of the examples in this chapter to hold our information catalog:"
   ]
  },
  {
   "cell_type": "code",
   "execution_count": 2,
   "id": "inappropriate-palmer",
   "metadata": {},
   "outputs": [],
   "source": [
    "from sqlalchemy import MetaData\n",
    "metadata = MetaData()"
   ]
  },
  {
   "cell_type": "markdown",
   "id": "dedicated-partnership",
   "metadata": {},
   "source": [
    "## 1.2 Tables\n",
    "Table objects are initialized in SQLAlchemy Core in a supplied `MetaData` object by\n",
    "calling the `Table` constructor with the table name and metadata.The columns are constructed by calling `Column` with a name, type, and then arguments that represent any additional SQL constructs and constraints. We create a table that could be used to store the cookie inventory for our online cookie delivery service."
   ]
  },
  {
   "cell_type": "code",
   "execution_count": 3,
   "id": "ranging-hayes",
   "metadata": {},
   "outputs": [],
   "source": [
    "from sqlalchemy import Table, Column, Integer, Numeric, String, ForeignKey, Boolean\n",
    "from sqlalchemy.exc import InvalidRequestError\n",
    "\n",
    "try: \n",
    "    cookies = Table(\"cookies\", metadata,\n",
    "        Column(\"cookie_id\", Integer(), primary_key=True),\n",
    "        Column('cookie_name', String(50), index=True), # Indexing this column to speed up queries\n",
    "        Column('cookie_recipe_url', String(255)),\n",
    "        Column('cookie_sku', String(55)),\n",
    "        Column('quantity', Integer()),\n",
    "        Column('unit_cost', Numeric(12, 2))\n",
    "    )\n",
    "except InvalidRequestError:\n",
    "    pass"
   ]
  },
  {
   "cell_type": "markdown",
   "id": "functioning-cursor",
   "metadata": {},
   "source": [
    "## 1.3 Columns\n",
    "Colums define the fields that exists in our tables, and they provide the primary means by which we define other constraints through their keyword arguments. We can mark columns as required and/or force them to be unique. We can also set default initial values and change values when the record is updated."
   ]
  },
  {
   "cell_type": "code",
   "execution_count": 4,
   "id": "moderate-statistics",
   "metadata": {},
   "outputs": [],
   "source": [
    "from datetime import datetime\n",
    "from sqlalchemy import DateTime\n",
    "\n",
    "try:\n",
    "    users = Table('users', metadata,\n",
    "        Column('user_id', Integer(), primary_key=True),\n",
    "        Column('username', String(15), nullable=False, unique=True),\n",
    "        Column('email_address', String(255), nullable=False),\n",
    "        Column('phone', String(20), nullable=False),\n",
    "        Column('password', String(25), nullable=False),\n",
    "        Column('created_on', DateTime(), default=datetime.now),\n",
    "        Column('updated_on', DateTime(), default=datetime.now, onupdate=datetime.now)\n",
    "    )\n",
    "    # Using onupdate=datetime.now will uptade the column to the date it was updated.\n",
    "    # using nullable=False is the same as NOT NULL in sql and uniqe=True is self explanatory.\n",
    "except InvalidRequestError:\n",
    "    pass"
   ]
  },
  {
   "cell_type": "markdown",
   "id": "joined-hunter",
   "metadata": {},
   "source": [
    "## 1.4 Keys and Constraints\n",
    "Keys and constraints are used as a way to ensure that our data meets certain require‐\n",
    "ments prior to being stored in the database. The objects that represent keys and con‐\n",
    "straints can be found inside the base SQLAlchemy module, and three of the more\n",
    "common ones can be imported as shown here:"
   ]
  },
  {
   "cell_type": "code",
   "execution_count": 5,
   "id": "intermediate-fabric",
   "metadata": {},
   "outputs": [],
   "source": [
    "from sqlalchemy import PrimaryKeyConstraint, UniqueConstraint, CheckConstraint"
   ]
  },
  {
   "cell_type": "markdown",
   "id": "adjusted-hawaiian",
   "metadata": {},
   "source": [
    "The `PrimaryKeyConstraint` means making a column a Primary key, basicly a tuple, you can set it when creating the table as shown in **1.3** but also in hindsight of creating the table. For composite primary keys simply use commas:"
   ]
  },
  {
   "cell_type": "code",
   "execution_count": 6,
   "id": "stylish-national",
   "metadata": {},
   "outputs": [],
   "source": [
    "# PrimaryKeyConstraint(\"User_id\", name = \"user_pk\")"
   ]
  },
  {
   "cell_type": "markdown",
   "id": "original-burke",
   "metadata": {},
   "source": [
    "To define a `UniqueConstraint` follows the same formula as above, and can be done externally by using:"
   ]
  },
  {
   "cell_type": "code",
   "execution_count": 7,
   "id": "enormous-launch",
   "metadata": {},
   "outputs": [],
   "source": [
    "# UniqueConstraint(\"username\", name = \"uix_username\")"
   ]
  },
  {
   "cell_type": "markdown",
   "id": "tropical-industry",
   "metadata": {},
   "source": [
    "Not shown before is the `CheckConstraint` type. This type of constraint is used\n",
    "to ensure that the data supplied for a column matches a set of user-defined criteria. In\n",
    "the following example, we are ensuring that `unit_cost` is never allowed to be less\n",
    "than 0.00 because every cookie costs something to make:"
   ]
  },
  {
   "cell_type": "code",
   "execution_count": 8,
   "id": "attended-jenny",
   "metadata": {},
   "outputs": [
    {
     "data": {
      "text/plain": [
       "CheckConstraint(<sqlalchemy.sql.elements.TextClause object at 0x7feb78fe4130>, name='unit_cost_positive')"
      ]
     },
     "execution_count": 8,
     "metadata": {},
     "output_type": "execute_result"
    }
   ],
   "source": [
    "CheckConstraint(\"unit_cost >= 0.00\", name=\"unit_cost_positive\")"
   ]
  },
  {
   "cell_type": "markdown",
   "id": "coastal-abraham",
   "metadata": {},
   "source": [
    "## 1.5 Indexes\n",
    "Indexes are used to accelerate lookups for field values. When indexes are created as shown in the example in **1.2**, you will have an index called ix_cookies_cookie_name. We can assign it afterwards aswell as follows:"
   ]
  },
  {
   "cell_type": "code",
   "execution_count": 9,
   "id": "australian-civilization",
   "metadata": {},
   "outputs": [],
   "source": [
    "from sqlalchemy import Index\n",
    "#Index(\"ix_cookies_cookie_name\", \"cookie_name\")"
   ]
  },
  {
   "cell_type": "markdown",
   "id": "better-tanzania",
   "metadata": {},
   "source": [
    "We can also create functional indexes that vary a bit by the backend database being\n",
    "used. This lets you create an index for situations where you often need to query based\n",
    "on some unusual context. For example, what if we want to select by cookie SKU and\n",
    "name as a joined item, such as *SKU0001 Chocolate Chip*? We could define an index\n",
    "like this to optimize that lookup:"
   ]
  },
  {
   "cell_type": "code",
   "execution_count": 10,
   "id": "seventh-enemy",
   "metadata": {},
   "outputs": [],
   "source": [
    "#Index(\"ix_test\", mytable.c.cookie_sku, mytable.c.cookie_name)"
   ]
  },
  {
   "cell_type": "markdown",
   "id": "specialized-complement",
   "metadata": {},
   "source": [
    "## Relationships and ForeignKeyConstraints\n",
    "Now that we have a table with columns with all the right constraints and indexes, let’s\n",
    "look at how we create relationships between tables. We need a way to track orders,\n",
    "including line items that represent each cookie and quantity ordered.\n",
    "\n",
    "Association tables are used to enable many-to-many relationships between two other tables. A single `ForeignKey` on a table is typically a sign of a one-to-many relationship; however, if there are multiple `ForeignKey` relationships on a table, there is a strong possibility that it is an association table.\n",
    "\n",
    "You can look into assosiation tables later on. For now lets build our two assosiation tables to connect the previously made tables:"
   ]
  },
  {
   "cell_type": "code",
   "execution_count": 11,
   "id": "cooperative-newcastle",
   "metadata": {},
   "outputs": [],
   "source": [
    "from sqlalchemy import ForeignKey\n",
    "\n",
    "try: \n",
    "    orders = Table('orders', metadata,\n",
    "        Column('order_id', Integer(), primary_key=True),\n",
    "        Column('user_id', ForeignKey('users.user_id')), # Note the use of a string to define key\n",
    "        Column('shipped', Boolean(), default=False)\n",
    "    )\n",
    "    line_items = Table('line_items', metadata,\n",
    "        Column('line_items_id', Integer(), primary_key=True),\n",
    "        Column('order_id', ForeignKey('orders.order_id')),\n",
    "        Column('cookie_id', ForeignKey('cookies.cookie_id')),\n",
    "        Column('quantity', Integer()),\n",
    "        Column('extended_cost', Numeric(12, 2))\n",
    "    )\n",
    "    \n",
    "except InvalidRequestError:\n",
    "    pass"
   ]
  },
  {
   "cell_type": "markdown",
   "id": "numerical-owner",
   "metadata": {},
   "source": [
    "If we use hard references, such as cookies.c.cookie_id , in our ForeignKey definitions it will perform that resolution during module initialization and could fail depending on the\n",
    "order in which the tables are loaded."
   ]
  },
  {
   "cell_type": "markdown",
   "id": "viral-definition",
   "metadata": {},
   "source": [
    "To define a `ForeignKeyConstraint` externally we can use:\n"
   ]
  },
  {
   "cell_type": "code",
   "execution_count": 14,
   "id": "reverse-resident",
   "metadata": {},
   "outputs": [],
   "source": [
    "# ForeignKeyConstraint(['order_id'], ['orders.order_id'])"
   ]
  },
  {
   "cell_type": "markdown",
   "id": "mathematical-drink",
   "metadata": {},
   "source": [
    "## Persisting the Tables\n",
    "All of our tables and additional schema definitions are associated with an instance of\n",
    "`metadata` . Persisting the schema to the database is simply a matter of calling the\n",
    "`create_all()` method on our `metadata` instance with the engine where it should create those tables, here i will create them in memory, but moving forward i will most likely use postgreSQL as the engine and remote controll it."
   ]
  },
  {
   "cell_type": "code",
   "execution_count": 19,
   "id": "fuzzy-smart",
   "metadata": {},
   "outputs": [],
   "source": [
    "from sqlalchemy import create_engine\n",
    "engine = create_engine('sqlite:///:memory:')\n",
    "metadata.create_all(engine)"
   ]
  },
  {
   "cell_type": "markdown",
   "id": "intense-mirror",
   "metadata": {},
   "source": [
    "**The full pythonscript for this database can be found under `chapter_1_database.py`**"
   ]
  }
 ],
 "metadata": {
  "kernelspec": {
   "display_name": "Python 3",
   "language": "python",
   "name": "python3"
  },
  "language_info": {
   "codemirror_mode": {
    "name": "ipython",
    "version": 3
   },
   "file_extension": ".py",
   "mimetype": "text/x-python",
   "name": "python",
   "nbconvert_exporter": "python",
   "pygments_lexer": "ipython3",
   "version": "3.8.5"
  }
 },
 "nbformat": 4,
 "nbformat_minor": 5
}
